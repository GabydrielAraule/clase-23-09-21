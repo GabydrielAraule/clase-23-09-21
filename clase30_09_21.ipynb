{
  "nbformat": 4,
  "nbformat_minor": 0,
  "metadata": {
    "colab": {
      "name": "clase30/09/21.ipynb",
      "provenance": [],
      "authorship_tag": "ABX9TyNYp0PZZkGeTTnhX+yDP4AI",
      "include_colab_link": true
    },
    "kernelspec": {
      "name": "python3",
      "display_name": "Python 3"
    },
    "language_info": {
      "name": "python"
    }
  },
  "cells": [
    {
      "cell_type": "markdown",
      "metadata": {
        "id": "view-in-github",
        "colab_type": "text"
      },
      "source": [
        "<a href=\"https://colab.research.google.com/github/GabydrielAraule/clase-30-09-21/blob/main/clase30_09_21.ipynb\" target=\"_parent\"><img src=\"https://colab.research.google.com/assets/colab-badge.svg\" alt=\"Open In Colab\"/></a>"
      ]
    },
    {
      "cell_type": "code",
      "metadata": {
        "id": "5SwUlKmKvpZo"
      },
      "source": [
        "class Persona:\n",
        "    def __init__( self , n , e , est ):\n",
        "        self.__nombre = n\n",
        "        self.__edad = e\n",
        "        self.__estatura = est\n",
        "    \n",
        "    def to_string( self ):\n",
        "        return \" Nombre: \" + self.__nombre + \" Edad: \" + str(self.__edad) + \" estatura: \" +str(self.__estatura)\n",
        "    \n",
        "    def set_estatura( self, nueva_est):\n",
        "        if nueva_est > 0.10 and nueva_est < 2.5 :\n",
        "            self.__estatura = nueva_est\n",
        "        else:\n",
        "            print(\"ERROR la estatura no es posible\")\n",
        "    \n",
        "    def get_estatura(self):\n",
        "        return self.__estatura\n"
      ],
      "execution_count": 1,
      "outputs": []
    },
    {
      "cell_type": "code",
      "metadata": {
        "colab": {
          "base_uri": "https://localhost:8080/"
        },
        "id": "Sn42HbvUvxPn",
        "outputId": "06739f19-ab19-4b07-b635-a054819c91c0"
      },
      "source": [
        "per = Persona(\"Jose\", 19, 1.70)\n",
        "print(per.to_string())\n",
        "\n",
        "\n",
        "#Encapsulamiento\n",
        "per.nombre = \"Pedro\"\n",
        "print(per.to_string())\n",
        "\n",
        "##per.estatura = 3.9\n",
        "\n",
        "per.set_estatura(1.9)\n",
        "print(per.to_string())\n",
        "print(\"Estatura:\", end=\"\")\n",
        "##print(per.__esrtatura)\n",
        "\n",
        "print( per.get_estatura())"
      ],
      "execution_count": 2,
      "outputs": [
        {
          "output_type": "stream",
          "name": "stdout",
          "text": [
            " Nombre: Jose Edad: 19 estatura: 1.7\n",
            " Nombre: Jose Edad: 19 estatura: 1.7\n",
            " Nombre: Jose Edad: 19 estatura: 1.9\n",
            "Estatura:1.9\n"
          ]
        }
      ]
    },
    {
      "cell_type": "code",
      "metadata": {
        "id": "9ZP_yzC3v1WI"
      },
      "source": [
        "class Estudiante( Persona):\n",
        "    def __init__(self, nc, nombre, edad, est):\n",
        "        self.__num_cta = nc\n",
        "        super().__init__(nombre,edad,est)\n",
        "    def to_string(self):\n",
        "        return super().to_string() + \" Numero de cuenta: \" + self.__num_cta"
      ],
      "execution_count": 3,
      "outputs": []
    },
    {
      "cell_type": "code",
      "metadata": {
        "colab": {
          "base_uri": "https://localhost:8080/"
        },
        "id": "5cg-aULSv5xd",
        "outputId": "2eaeb8de-ea39-487d-e3f0-f65a1778df31"
      },
      "source": [
        "est = Estudiante(\"318130604\", \"JOse\", 18, 1.70)\n",
        "print( est.to_string())"
      ],
      "execution_count": 4,
      "outputs": [
        {
          "output_type": "stream",
          "name": "stdout",
          "text": [
            " Nombre: JOse Edad: 18 estatura: 1.7 Numero de cuenta: 318130604\n"
          ]
        }
      ]
    }
  ]
}